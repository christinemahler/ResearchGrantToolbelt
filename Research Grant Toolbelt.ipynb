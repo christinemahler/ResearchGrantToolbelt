{
 "cells": [
  {
   "cell_type": "markdown",
   "metadata": {},
   "source": [
    "### Wall of Imports"
   ]
  },
  {
   "cell_type": "code",
   "execution_count": 1,
   "metadata": {},
   "outputs": [
    {
     "name": "stderr",
     "output_type": "stream",
     "text": [
      "USER_AGENT environment variable not set, consider setting it to identify your requests.\n"
     ]
    }
   ],
   "source": [
    "# 🔹 Standard Library Imports\n",
    "import os\n",
    "import getpass\n",
    "import json\n",
    "import shutil\n",
    "import tarfile\n",
    "import subprocess\n",
    "import fnmatch\n",
    "import functools\n",
    "import operator\n",
    "import uuid\n",
    "import xml.etree.ElementTree as ET\n",
    "from pathlib import Path\n",
    "from tempfile import TemporaryDirectory\n",
    "from ftplib import FTP\n",
    "from typing import (\n",
    "    Any, Callable, Dict, List, Optional, Tuple, TypedDict, Union, Annotated\n",
    ")\n",
    "import time\n",
    "\n",
    "# 🔹 Third-Party Libraries\n",
    "import requests\n",
    "import pandas as pd  # Standard alias for pandas\n",
    "from bs4 import BeautifulSoup\n",
    "import pprint  # Useful for structured printing\n",
    "from IPython.display import Image, display\n",
    "from docx import Document\n",
    "import pypandoc\n",
    "\n",
    "# 🔹 LangChain Core Components\n",
    "from langchain.schema.output_parser import StrOutputParser\n",
    "from langchain.schema.runnable import RunnablePassthrough\n",
    "from langchain.prompts import ChatPromptTemplate\n",
    "from langchain.chains.summarize import load_summarize_chain\n",
    "from langchain.llms import OpenAI\n",
    "from langchain.agents import AgentExecutor, create_openai_functions_agent\n",
    "from langchain.output_parsers.openai_functions import JsonOutputFunctionsParser\n",
    "from langchain_core.prompts import ChatPromptTemplate, MessagesPlaceholder\n",
    "from langchain_core.messages import AIMessage, BaseMessage, HumanMessage\n",
    "from langchain_core.runnables import Runnable\n",
    "from langchain_core.tools import BaseTool, tool\n",
    "from operator import itemgetter  # Used for extracting specific keys\n",
    "\n",
    "# 🔹 LangChain Embeddings & Models\n",
    "from langchain_openai import OpenAIEmbeddings, ChatOpenAI\n",
    "from langchain_openai.embeddings import OpenAIEmbeddings\n",
    "from langchain_openai.chat_models import ChatOpenAI\n",
    "\n",
    "# 🔹 LangChain Vector Stores & Document Loaders\n",
    "from langchain_qdrant import QdrantVectorStore\n",
    "from qdrant_client import QdrantClient\n",
    "from langchain_community.document_loaders import JSONLoader, WebBaseLoader\n",
    "from langchain_text_splitters import RecursiveJsonSplitter\n",
    "\n",
    "# 🔹 LangChain Tools & Search Utilities\n",
    "from langchain_community.tools.pubmed.tool import PubmedQueryRun\n",
    "from langchain_community.tools import TavilySearchResults\n",
    "\n",
    "# 🔹 LangGraph (For Workflow Orchestration)\n",
    "from langgraph.graph import END, StateGraph\n",
    "\n",
    "# 🔹 LangChain Vector Stores\n",
    "from langchain_community.vectorstores import Qdrant"
   ]
  },
  {
   "cell_type": "markdown",
   "metadata": {},
   "source": [
    "### Enter API Keys"
   ]
  },
  {
   "cell_type": "code",
   "execution_count": 2,
   "metadata": {},
   "outputs": [],
   "source": [
    "os.environ[\"OPENAI_API_KEY\"] = getpass.getpass(\"OpenAI API Key:\")\n",
    "os.environ[\"QDRANT_API_KEY\"] = getpass.getpass(\"Qdrant API Key:\")\n",
    "os.environ[\"TAVILY_API_KEY\"] = getpass.getpass(\"Tavily API Key:\")"
   ]
  },
  {
   "cell_type": "markdown",
   "metadata": {},
   "source": [
    "### Load Embeddings"
   ]
  },
  {
   "cell_type": "code",
   "execution_count": 3,
   "metadata": {},
   "outputs": [],
   "source": [
    "embedding_model = OpenAIEmbeddings(model=\"text-embedding-3-small\")"
   ]
  },
  {
   "cell_type": "markdown",
   "metadata": {},
   "source": [
    "### Connect to Qdrant Vector Store Collections"
   ]
  },
  {
   "cell_type": "code",
   "execution_count": 4,
   "metadata": {},
   "outputs": [],
   "source": [
    "qdrant_url = \"https://e788c0ea-f5df-4d96-85ac-350da677aadf.us-west-2-0.aws.cloud.qdrant.io\"\n",
    "\n",
    "# Opportunities\n",
    "opportunities_qdrant = QdrantVectorStore.from_existing_collection(\n",
    "    embedding=embedding_model,\n",
    "    collection_name=\"opportunities\",\n",
    "    url=qdrant_url,\n",
    "    api_key=os.environ[\"QDRANT_API_KEY\"],\n",
    ")\n",
    "\n",
    "# Projects\n",
    "projects_qdrant = QdrantVectorStore.from_existing_collection(\n",
    "    embedding=embedding_model,\n",
    "    collection_name=\"projects\",\n",
    "    url=qdrant_url,\n",
    "    api_key=os.environ[\"QDRANT_API_KEY\"],\n",
    ")\n",
    "\n",
    "# Opportunities Summary\n",
    "opportunities_summary_qdrant = QdrantVectorStore.from_existing_collection(\n",
    "    embedding=embedding_model,\n",
    "    collection_name=\"opportunities_summary\",\n",
    "    url=qdrant_url,\n",
    "    api_key=os.environ[\"QDRANT_API_KEY\"],\n",
    ")"
   ]
  },
  {
   "cell_type": "markdown",
   "metadata": {},
   "source": [
    "### Create Retrievers"
   ]
  },
  {
   "cell_type": "code",
   "execution_count": 5,
   "metadata": {},
   "outputs": [],
   "source": [
    "opportunities_retriever = opportunities_qdrant.as_retriever(search_kwargs={\"k\": 30})\n",
    "projects_retriever = projects_qdrant.as_retriever(search_kwargs={\"k\": 10})\n",
    "opportunities_summary_retriever = opportunities_summary_qdrant.as_retriever(search_kwargs={\"k\": 10})\n",
    "projects_summary_retriever = projects_qdrant.as_retriever(search_kwargs={\"k\": 10})"
   ]
  },
  {
   "cell_type": "markdown",
   "metadata": {},
   "source": [
    "### Create Prompt Templates"
   ]
  },
  {
   "cell_type": "code",
   "execution_count": 6,
   "metadata": {},
   "outputs": [],
   "source": [
    "study_complexity_prompt_template = \"\"\"\\\n",
    "Use only the provided context to answer the user's question about generating budgets. You must only answer if you are specifically asked to create a budget and are\n",
    "provided with one specific opportunity id or title. Do not proceed if you are missing the opportunity id or title. Use only the context for that opportunity. \n",
    "Include the opportunity id, name, award amount (from the award information section), award project period (from the award information section), and a link to the opportunity id announcement in every response. Generate the link by adding the opportunity id + .html on the end of https://grants.nih.gov/grants/guide/pa-files/ \n",
    "\n",
    "You must include the project complexity and the required budget form in every response to a question about project complexity or budgets.\n",
    "\n",
    "Calculate the project complexity as follows:\n",
    "1) Regulatory: (High/Medium/Low) - Rank proportionately to the number of regulations required. Provide examples supporting the score.\n",
    "2) Data Collection and Management: (High/Medium/Low) - Rank proportionately to number of data elements needed (per participating site), data complexity, data sensitivity, and data collection frequency. Rank higher for more participating sites. Provide examples supporting the score.\n",
    "3) Statistical Analysis and Manuscript Development: (High/Medium/Low) - Estimate the level of statistical analysis involved. Rank non-standard processes higher than standard ones. Provide examples supporting the score.\n",
    "4) Information Technology: (High/Medium/Low) - Rank proportionately to IT monitoring and maintenance, software licenses and subscriptions. Rank routine services lower than non-standard services. Provide examples supporting the score.\n",
    "5) Operational: (High/Medium/Low) - Rank proportionately to project administration effort required and increased site onboarding, coordination and training. Provide examples supporting the score.\n",
    "6) Financial: (High/Medium/Low) - Rank proportionately to budget management complexity. Provide examples supporting the score.\n",
    "        \n",
    "Using only the guidance provided, determine the required budget form as follows:\n",
    "1) If the application proposes the use of human fetal tissue from elective abortions, use the detailed form (R&R Budget Form).\n",
    "2) Else if the direct costs (minus any consortium/subcontract F&A costs) equal more than $250,000 per year, use the detailed form (R&R Budget Form).\n",
    "3) Else if the opportunity is not a research grant or cooperative agreement, use the detailed form (R&R Budget Form).\n",
    "4) Else if the applicant is not based in the United States, use the detailed form (R&R Budget Form).\n",
    "5) Else use the modular form (PHS 398 Modular Budget Form).\n",
    "\n",
    "If you do not know the answer, or it's not contained in the provided context response with \"I don't know\"\n",
    "\n",
    "Context:\n",
    "{context}\n",
    "\n",
    "Question:\n",
    "{question}\n",
    "\"\"\"\n",
    "\n",
    "study_complexity_prompt = ChatPromptTemplate.from_template(study_complexity_prompt_template)"
   ]
  },
  {
   "cell_type": "code",
   "execution_count": 7,
   "metadata": {},
   "outputs": [],
   "source": [
    "opportunities_rag_prompt_template = \"\"\"\\\n",
    "Use only the provided context to answer the user's question about specific funding opportunities. You do not create budgets. If an opportunity id or title is provided, use only the context for that opportunity. \n",
    "Include the opportunity id, name, award amount (from the award information section), award project period (from the award information section), and a link to the opportunity id announcement in every response. Generate the link by adding the opportunity id + .html on the end of https://grants.nih.gov/grants/guide/pa-files/ \n",
    "\n",
    "If you do not know the answer, or it's not contained in the provided context response with \"I don't know\"\n",
    "\n",
    "Context:\n",
    "{context}\n",
    "\n",
    "Question:\n",
    "{question}\n",
    "\"\"\"\n",
    "\n",
    "opportunities_rag_prompt = ChatPromptTemplate.from_template(opportunities_rag_prompt_template)"
   ]
  },
  {
   "cell_type": "code",
   "execution_count": 8,
   "metadata": {},
   "outputs": [],
   "source": [
    "projects_rag_prompt_template = \"\"\"\\\n",
    "Use only the provided context to answer the user's question. If a specific project is named, use only the context for that project. Include the name of the projects in your response, and provide a link to the project details.\n",
    "\n",
    "If you do not know the answer, or it's not contained in the provided context response with \"I don't know\"\n",
    "\n",
    "Context:\n",
    "{context}\n",
    "\n",
    "Question:\n",
    "{question}\n",
    "\"\"\"\n",
    "\n",
    "projects_rag_prompt = ChatPromptTemplate.from_template(projects_rag_prompt_template)"
   ]
  },
  {
   "cell_type": "code",
   "execution_count": 9,
   "metadata": {},
   "outputs": [],
   "source": [
    "opportunities_summary_prompt_template = \"\"\"\\\n",
    "Using only the following summarized opportunities:\n",
    "\n",
    "    {context}\n",
    "\n",
    "Extract the most important points and organize them into a structured table format with columns: \n",
    "\"Document Number\", \"Title\", \"Activity Code\", \"Release Date\", \"Expiration Date\", \"URL\". \n",
    "Sort the table from newest release date to oldest release date and return the table in a structured format without additional explanations.\n",
    "\n",
    "Provide a link to the remaining funding opportunities on the NIH website here: https://grants.nih.gov/funding/nih-guide-for-grants-and-contracts\n",
    "\"\"\"\n",
    "\n",
    "opportunities_summary_prompt = ChatPromptTemplate.from_template(opportunities_summary_prompt_template)"
   ]
  },
  {
   "cell_type": "code",
   "execution_count": 10,
   "metadata": {},
   "outputs": [],
   "source": [
    "projects_summary_prompt_template = \"\"\"\\\n",
    "Using only the following summarized projects:\n",
    "\n",
    "    {context}\n",
    "\n",
    "Extract the most important points and organize them into a structured table format with columns: \n",
    "\"Project Number\", \"Project Title\", \"Principal Investigator(s)\", \"Activity Code\", \"Award Amount\", \"Project Start Date\", \"Project End Date\", \"Project Detail URL\". \n",
    "Sort the table from newest project start date to oldest project start date and return the table in a structured format without additional explanations.\n",
    "\n",
    "Provide a link to the remaining projects on the NIH website here: https://reporter.nih.gov/\n",
    "\"\"\"\n",
    "\n",
    "projects_summary_prompt = ChatPromptTemplate.from_template(projects_summary_prompt_template)"
   ]
  },
  {
   "cell_type": "markdown",
   "metadata": {},
   "source": [
    "### Create Model Instances"
   ]
  },
  {
   "cell_type": "code",
   "execution_count": 11,
   "metadata": {},
   "outputs": [],
   "source": [
    "small_llm = ChatOpenAI(model=\"gpt-4o-mini\")\n",
    "medium_llm = ChatOpenAI(model=\"gpt-4o\")\n",
    "large_llm = ChatOpenAI(model=\"gpt-4-turbo\")\n",
    "xlarge_llm = ChatOpenAI(model=\"o1\")\n",
    "\n",
    "budget_llm = ChatOpenAI(model=\"gpt-4-turbo\")\n",
    "writer_llm = ChatOpenAI(model=\"gpt-4-turbo\")"
   ]
  },
  {
   "cell_type": "markdown",
   "metadata": {},
   "source": [
    "### Create Summarizers"
   ]
  },
  {
   "cell_type": "code",
   "execution_count": 12,
   "metadata": {},
   "outputs": [],
   "source": [
    "\n",
    "summarizer_chain = load_summarize_chain(medium_llm, chain_type=\"map_reduce\")\n",
    "\n",
    "opportunities_summary_chain = (\n",
    "    {\"context\": itemgetter(\"question\") | opportunities_summary_retriever | summarizer_chain}  # Summarize retrieved docs\n",
    "    | opportunities_summary_prompt  # Pass summarized context to the final prompt\n",
    "    | small_llm  # Process final output\n",
    "    | StrOutputParser()  # Convert to a string output\n",
    ")\n",
    "\n",
    "projects_summary_chain = (\n",
    "    {\"context\": itemgetter(\"question\") | projects_summary_retriever | summarizer_chain}  # Summarize retrieved docs\n",
    "    | projects_summary_prompt  # Pass summarized context to the final prompt\n",
    "    | small_llm  # Process final output\n",
    "    | StrOutputParser()  # Convert to a string output\n",
    ")"
   ]
  },
  {
   "cell_type": "code",
   "execution_count": 213,
   "metadata": {},
   "outputs": [
    {
     "name": "stdout",
     "output_type": "stream",
     "text": [
      "| Document Number | Title                                                                                                                     | Activity Code | Release Date | Expiration Date | URL                                                        |\n",
      "|------------------|---------------------------------------------------------------------------------------------------------------------------|---------------|--------------|------------------|------------------------------------------------------------|\n",
      "| PAR-25-176       | Limited Competition: Small Grant Program for ORIP Special Emphasis Research Career Award (SERCA) K01 Recipients          | R03           | 11/18/2024   | 5/8/2026         | [Link](https://grants.nih.gov/grants/guide/pa-files/PAR-25-176.html) |\n",
      "| PAR-25-134       | Academic Research Enhancement Award (AREA) for Undergraduate-Focused Institutions                                          | R15           | 11/26/2024   | 1/8/2028         | [Link](https://grants.nih.gov/grants/guide/pa-files/PAR-25-134.html) |\n",
      "| PAR-25-091       | Limited Competition: Small Grant Program for NIDDK K01/K08/K23/K25 Recipients                                          | R03           | 1/10/2025    | 1/8/2028         | [Link](https://grants.nih.gov/grants/guide/pa-files/PAR-25-091.html) |\n",
      "| PAR-25-059       | Innovation Grants to Nurture Initial Translational Efforts (IGNITE): Assay Development and Neurotherapeutic Agent Identification | R61/R33       | 10/22/2024   | 10/21/2027       | [Link](https://grants.nih.gov/grants/guide/pa-files/PAR-25-059.html) |\n",
      "| PAR-24-145       | Support for Research Excellence First Independent Research (SuRE-First) Award                                            | R16           | 3/14/2024    | 1/8/2027         | [Link](https://grants.nih.gov/grants/guide/pa-files/PAR-24-145.html) |\n",
      "| PAR-23-144       | STrengthening Research Opportunities for NIH Grants (STRONG): Structured Institutional Needs Assessment and Action Plan Development for Resource Limited Institutions (RLIs) | UC2           | 4/19/2023    | 9/19/2025        | [Link](https://grants.nih.gov/grants/guide/pa-files/PAR-23-144.html) |\n",
      "| PAR-23-063       | Limited Competition: Renewal of Centers of Biomedical Research Excellence (COBRE) (Phase 2)                               | P20           | 12/20/2022   | 5/29/2025        | [Link](https://grants.nih.gov/grants/guide/pa-files/PAR-23-063.html) |\n",
      "| PAR-18-798       | NIOSH Exploratory/Developmental Grant Program                                                                            | R21           | 5/24/2018    | 11/21/2025       | [Link](https://grants.nih.gov/grants/guide/pa-files/PAR-18-798.html) |\n",
      "| PAR-18-797       | NIOSH Small Research Grant Program                                                                                        | R03           | 5/24/2018    | 11/21/2025       | [Link](https://grants.nih.gov/grants/guide/pa-files/PAR-18-797.html) |\n",
      "| RFA-FD-25-007    | Laboratory Flexible Funding Model (LFFM)                                                                                 | U19           | 1/17/2025    | 1/11/2028        | [Link](https://grants.nih.gov/grants/guide/rfa-files/RFA-FD-25-007.html) |\n",
      "\n",
      "[Additional funding opportunities on the NIH website.](https://grants.nih.gov/funding/nih-guide-for-grants-and-contracts)\n"
     ]
    }
   ],
   "source": [
    "response = opportunities_summary_chain.invoke({\"question\" : \"what are the most recently released funding opportunities?\"})\n",
    "print(response)"
   ]
  },
  {
   "cell_type": "code",
   "execution_count": 101,
   "metadata": {},
   "outputs": [
    {
     "name": "stdout",
     "output_type": "stream",
     "text": [
      "| Project Number        | Project Title                                     | Principal Investigator(s)      | Activity Code | Award Amount | Project Start Date     | Project End Date       | Project Detail URL                             |\n",
      "|----------------------|--------------------------------------------------|-------------------------------|---------------|--------------|------------------------|------------------------|------------------------------------------------|\n",
      "| 1U24TR001597-01     | Utah Trial Innovation Center                      | Jonathan Michael Dean          | U24           | $3,622,562   | 2016-07-01             | 2023-06-30             | [Link](https://reporter.nih.gov/project-details/9142614) |\n",
      "| 3U01HL094339-06S1   | THAPCA Trials - DCC Application                  | Jonathan Michael Dean          | U01           | $249,883     | 2009-03-09             | 2016-07-31             | [Link](https://reporter.nih.gov/project-details/9136934) |\n",
      "| 5U01HL094339-06     | THAPCA Trials - DCC Application                  | Jonathan Michael Dean          | U01           | $1,446,485   | 2009-03-09             | 2016-07-31             | [Link](https://reporter.nih.gov/project-details/8626249) |\n",
      "| 5U01HL094339-05     | THAPCA Trials - DCC Application                  | Jonathan Michael Dean          | U01           | $1,230,738   | 2009-03-09             | 2015-02-28             | [Link](https://reporter.nih.gov/project-details/8431697) |\n",
      "| 5U01HL094339-04     | THAPCA Trials - DCC Application                  | Jonathan Michael Dean          | U01           | $1,277,340   | 2009-03-09             | 2015-02-28             | [Link](https://reporter.nih.gov/project-details/8234950) |\n",
      "| 5U01HL094339-03     | THAPCA Trials - DCC Application                  | Jonathan Michael Dean          | U01           | $1,273,727   | 2009-03-09             | 2015-02-28             | [Link](https://reporter.nih.gov/project-details/8137940) |\n",
      "| 5U01HL094339-02     | THAPCA Trials - DCC Application                  | Jonathan Michael Dean          | U01           | $664,565     | 2009-03-09             | 2015-02-28             | [Link](https://reporter.nih.gov/project-details/8133460) |\n",
      "| 1U01HL094339-01     | THAPCA Trials - DCC Application                  | Jonathan Michael Dean          | U01           | $1,286,295   | 2009-03-09             | 2015-08-31             | [Link](https://reporter.nih.gov/project-details/7564659) |\n",
      "| 5M01RR000064-44     | DISORDERS OF PORPHYRIN METABOLISM               | James P Kushner               | M01           | $4,556       | 2008-03-01             | 2008-05-31             | [Link](https://reporter.nih.gov/project-details/7718480) |\n",
      "| 5M01RR000064-44     | GENETIC AND MOLECULAR CHARACTERIZATION OF INHERITED NEUROLOGICAL DISEASES | Kevin M Flanigan             | M01           | $9,370       | 2008-03-01             | 2008-05-31             | [Link](https://reporter.nih.gov/project-details/7718499) |\n",
      "\n",
      "[Access remaining projects on the NIH website here.](https://reporter.nih.gov/)\n"
     ]
    }
   ],
   "source": [
    "response = projects_summary_chain.invoke({\"question\" : \"provide a list of projects with Theron Casper as one of the principal investigators\"})\n",
    "print(response)"
   ]
  },
  {
   "cell_type": "markdown",
   "metadata": {},
   "source": [
    "### Create RAG Chains"
   ]
  },
  {
   "cell_type": "code",
   "execution_count": 13,
   "metadata": {},
   "outputs": [],
   "source": [
    "study_complexity_chain = (\n",
    "    {\"context\": itemgetter(\"question\") | opportunities_retriever, \"question\": itemgetter(\"question\")}\n",
    "    | study_complexity_prompt | small_llm | StrOutputParser()\n",
    ")\n",
    "\n",
    "opportunities_rag_chain = (\n",
    "    {\"context\": itemgetter(\"question\") | opportunities_retriever, \"question\": itemgetter(\"question\")}\n",
    "    | opportunities_rag_prompt | small_llm | StrOutputParser()\n",
    ")\n",
    "\n",
    "projects_rag_chain = (\n",
    "    {\"context\": itemgetter(\"question\") | projects_retriever, \"question\": itemgetter(\"question\")}\n",
    "    | projects_rag_prompt | small_llm | StrOutputParser()\n",
    ")"
   ]
  },
  {
   "cell_type": "markdown",
   "metadata": {},
   "source": [
    "### Test RAG Chains"
   ]
  },
  {
   "cell_type": "code",
   "execution_count": 15,
   "metadata": {},
   "outputs": [
    {
     "name": "stdout",
     "output_type": "stream",
     "text": [
      "('Here is the budget information for funding opportunity **PA-25-147: NIDDK '\n",
      " 'High Risk Multi-Center Clinical Study Cooperative Agreement (U01 Clinical '\n",
      " 'Trial Required)**:\\n'\n",
      " '\\n'\n",
      " '- **Opportunity ID**: PA-25-147\\n'\n",
      " '- **Name**: NIDDK High Risk Multi-Center Clinical Study Cooperative '\n",
      " 'Agreement (U01 Clinical Trial Required)\\n'\n",
      " '- **Award Amount**: Not specified in the provided context.\\n'\n",
      " '- **Award Project Period**: Not specified in the provided context.\\n'\n",
      " '- **Link to Opportunity Announcement**: [PA-25-147 '\n",
      " 'Announcement](https://grants.nih.gov/grants/guide/pa-files/PA-25-147.html)\\n'\n",
      " '\\n'\n",
      " '### Project Complexity:\\n'\n",
      " '1. **Regulatory**: Medium - Involves standard clinical trial regulations but '\n",
      " 'may also have additional requirements due to multisite nature.\\n'\n",
      " '2. **Data Collection and Management**: High - Likely involves multiple data '\n",
      " 'elements from various sites, requiring rigorous data management protocols.\\n'\n",
      " '3. **Statistical Analysis and Manuscript Development**: High - Clinical '\n",
      " 'trials often require complex statistical analyses and subsequent manuscript '\n",
      " 'preparation.\\n'\n",
      " '4. **Information Technology**: Medium - May require specialized software for '\n",
      " 'data collection and reporting, depending on the complexity.\\n'\n",
      " '5. **Operational**: High - Coordination between multiple sites adds '\n",
      " 'significant logistical complexity.\\n'\n",
      " '6. **Financial**: High - Budget management in multicenter studies can be '\n",
      " 'complicated due to various funding requirements and cost-sharing among '\n",
      " 'institutions.\\n'\n",
      " '\\n'\n",
      " '### Required Budget Form:\\n'\n",
      " 'For the U01, the detailed form (R&R Budget Form) is required due to the '\n",
      " 'nature of the funding opportunity.\\n'\n",
      " '\\n'\n",
      " 'Make sure to address these aspects when preparing your budget and follow the '\n",
      " 'specific instructions related to the type of budget required for this '\n",
      " 'funding opportunity.')\n"
     ]
    }
   ],
   "source": [
    "response = study_complexity_chain.invoke({\"question\" : \"how do I create a budget for funding opportunity PA-25-147\"})\n",
    "pprint.pprint(response)"
   ]
  },
  {
   "cell_type": "code",
   "execution_count": 216,
   "metadata": {},
   "outputs": [
    {
     "data": {
      "text/plain": [
       "'### University of Utah Projects by Year\\n\\n#### 2010\\n- **Project Title:** Population Assessment of Young Children with Spina Bifida in Utah\\n  - **Objective:** Develop a longitudinal, population-based cohort of children with spina bifida to understand secondary conditions impacting their health and well-being.\\n  - **Award Amount:** $299,509\\n  - **[Project Details](https://reporter.nih.gov/project-details/8036930)**\\n\\n#### 2018\\n- **Project Title:** University of Utah Center of Excellence in ELSI Research: UCEER\\n  - **Objective:** Focus on population screening for genetic conditions affecting women, children, and families, enhancing education and informed decision-making.\\n  - **Award Amount:** $966,064\\n  - **[Project Details](https://reporter.nih.gov/project-details/9488529)**\\n\\n#### 2019\\n- **Project Title:** University of Utah Center of Excellence in ELSI Research: UCEER\\n  - **Objective:** Continuation of ELSI research focused on population-based genetic testing and screening, with emphasis on newborn and prenatal screening.\\n  - **Award Amount:** $958,323\\n  - **[Project Details](https://reporter.nih.gov/project-details/9691947)**\\n\\n#### 2020\\n- **Project Title:** University of Utah Center of Excellence in ELSI Research: UCEER\\n  - **Objective:** Further support for ELSI research with a focus on newborn screening and genetic disabilities, extending support and involvement across disciplines.\\n  - **Award Amount:** $991,250\\n  - **[Project Details](https://reporter.nih.gov/project-details/9982144)**\\n\\n#### 2021\\n- **Project Title:** University of Utah Center of Excellence in ELSI Research: UCEER\\n  - **Objective:** Continuation of past ELSI research initiatives, focusing on adaptation and support for families affected by genetic conditions.\\n  - **Award Amount:** $991,250\\n  - **[Project Details](https://reporter.nih.gov/project-details/10226042)**\\n\\n#### 2022\\n- **Project Title:** University of Utah Center of Excellence in ELSI Research: UCEER\\n  - **Objective:** Ongoing efforts to address ELSI issues in genetic testing and screening, with a renewed focus on comprehensive training and support.\\n  - **Award Amount:** $991,250\\n  - **[Project Details](https://reporter.nih.gov/project-details/10474367)**\\n\\n#### 2023\\n- **Project Title:** University of Utah Center of Excellence in ELSI Research: UCEER\\n  - **Objective:** Continued focus on genetic testing and familial impacts, emphasizing a strong mentorship program for the next generation of scholars.\\n  - **Award Amount:** $991,250\\n  - **[Project Details](https://reporter.nih.gov/project-details/10632012)**\\n\\n#### 2024\\n- **Project Title:** University of Utah Center of Excellence in ELSI Research: UCEER\\n  - **Objective:** Renewal of funding with an enhanced emphasis on ELSI research engagements and inter-disciplinary collaborations.\\n  - **Award Amount:** $109,589\\n  - **[Project Details](https://reporter.nih.gov/project-details/11090190)**\\n\\nThis summary highlights the focus areas and award amounts for various projects undertaken by the University of Utah, showcasing an ongoing commitment to research in genetic conditions and their societal implications over the years.'"
      ]
     },
     "execution_count": 216,
     "metadata": {},
     "output_type": "execute_result"
    }
   ],
   "source": [
    "projects_rag_chain.invoke({\"question\" : \"summarize the University of Utah projects by year\"})"
   ]
  },
  {
   "cell_type": "markdown",
   "metadata": {},
   "source": [
    "### Create RAG Tools"
   ]
  },
  {
   "cell_type": "code",
   "execution_count": 14,
   "metadata": {},
   "outputs": [],
   "source": [
    "@tool\n",
    "def assess_study_complexity(\n",
    "    query: Annotated[str, \"query to ask the retrieve information tool\"]\n",
    "    ):\n",
    "  \"\"\"Use Retrieval Augmented Generation to get information about NIH funding opportunities and assess study complexity\"\"\"\n",
    "  return study_complexity_chain.invoke({\"question\" : query})\n",
    "\n",
    "@tool\n",
    "def retrieve_opportunities_information(\n",
    "    query: Annotated[str, \"query to ask the retrieve information tool\"]\n",
    "    ):\n",
    "  \"\"\"Use Retrieval Augmented Generation to get information about NIH funding opportunities\"\"\"\n",
    "  return opportunities_rag_chain.invoke({\"question\" : query})\n",
    "\n",
    "@tool\n",
    "def retrieve_projects_information(\n",
    "    query: Annotated[str, \"query to ask the retrieve information tool\"]\n",
    "    ):\n",
    "  \"\"\"Use Retrieval Augmented Generation to retrieve information about NIH projects\"\"\"\n",
    "  return projects_rag_chain.ainvoke({\"question\" : query})"
   ]
  },
  {
   "cell_type": "markdown",
   "metadata": {},
   "source": [
    "### Create Summarize Tools"
   ]
  },
  {
   "cell_type": "code",
   "execution_count": 15,
   "metadata": {},
   "outputs": [],
   "source": [
    "@tool\n",
    "def summarize_opportunities(\n",
    "    query: Annotated[str, \"query to ask the summarize opportunities tool\"]\n",
    "    ):\n",
    "  \"\"\"Use summarize tool to summarize NIH funding opportunities\"\"\"\n",
    "  return opportunities_summary_chain.invoke({\"question\" : query})\n",
    "\n",
    "@tool\n",
    "def summarize_projects(\n",
    "    query: Annotated[str, \"query to ask the summarize projects tool\"]\n",
    "    ):\n",
    "  \"\"\"Use summarize tool to summarize NIH projects\"\"\"\n",
    "  return projects_summary_chain.invoke({\"question\" : query})"
   ]
  },
  {
   "cell_type": "markdown",
   "metadata": {},
   "source": [
    "### Create Search Tools"
   ]
  },
  {
   "cell_type": "code",
   "execution_count": 16,
   "metadata": {},
   "outputs": [],
   "source": [
    "pub_med_tool = PubmedQueryRun()\n",
    "tavily_tool = TavilySearchResults(\n",
    "    max_results=5,\n",
    "    include_answer=True,\n",
    "    include_raw_content=True\n",
    ")"
   ]
  },
  {
   "cell_type": "markdown",
   "metadata": {},
   "source": [
    "### Create Budget Analysis Tools"
   ]
  },
  {
   "cell_type": "code",
   "execution_count": 17,
   "metadata": {},
   "outputs": [],
   "source": [
    "@tool\n",
    "def do_nothing(\n",
    "    input_text: Annotated[str, \"Any input text.\"]\n",
    ") -> Annotated[str, \"A placeholder response indicating the tool does nothing.\"]:\n",
    "    \"\"\"\n",
    "    A LangChain tool that does nothing and returns a generic response.\n",
    "    Useful as a placeholder for debugging or tool testing.\n",
    "    \"\"\"\n",
    "    return \"This tool does nothing. You provided: \" + input_text\n",
    "\n",
    "@tool\n",
    "def calculate_person_months(percentage: float) -> float:\n",
    "    \"\"\"Calculates person months by multiplying a given percentage by 12 and returns the result.\"\"\"\n",
    "    return percentage/100 * 12"
   ]
  },
  {
   "cell_type": "markdown",
   "metadata": {},
   "source": [
    "### Create Document Tools"
   ]
  },
  {
   "cell_type": "code",
   "execution_count": 18,
   "metadata": {},
   "outputs": [],
   "source": [
    "budget_directory = 'data/Documents/Budget Documents'\n",
    "\n",
    "os.makedirs(budget_directory, exist_ok=True)\n",
    "\n",
    "'''\n",
    "def create_random_subdirectory():\n",
    "    random_id = str(uuid.uuid4())[:8]  # Use first 8 characters of a UUID\n",
    "    subdirectory_path = os.path.join('data/Documents', random_id)\n",
    "    os.makedirs(subdirectory_path, exist_ok=True)\n",
    "    return subdirectory_path\n",
    "'''\n",
    "\n",
    "WORKING_DIRECTORY = Path(budget_directory)\n",
    "\n",
    "@tool\n",
    "def create_outline(\n",
    "    points: Annotated[List[str], \"List of main points or sections.\"],\n",
    "    file_name: Annotated[str, \"File path to save the outline.\"],\n",
    ") -> Annotated[str, \"Path of the saved outline file.\"]:\n",
    "    \"\"\"Create and save an outline.\"\"\"\n",
    "    with (WORKING_DIRECTORY / file_name).open(\"w\") as file:\n",
    "        for i, point in enumerate(points):\n",
    "            file.write(f\"{i + 1}. {point}\\n\")\n",
    "    return f\"Outline saved to {file_name}\"\n",
    "\n",
    "\n",
    "@tool\n",
    "def read_document(\n",
    "    file_name: Annotated[str, \"File path to save the document.\"],\n",
    "    start: Annotated[Optional[int], \"The start line. Default is 0\"] = None,\n",
    "    end: Annotated[Optional[int], \"The end line. Default is None\"] = None,\n",
    ") -> str:\n",
    "    \"\"\"Read the specified document.\"\"\"\n",
    "    with (WORKING_DIRECTORY / file_name).open(\"r\") as file:\n",
    "        lines = file.readlines()\n",
    "    if start is not None:\n",
    "        start = 0\n",
    "    return \"\\n\".join(lines[start:end])\n",
    "\n",
    "\n",
    "@tool\n",
    "def write_document(\n",
    "    content: Annotated[str, \"Text content to be written into the document.\"],\n",
    "    file_name: Annotated[str, \"File path to save the document.\"],\n",
    ") -> Annotated[str, \"Path of the saved document file.\"]:\n",
    "    \"\"\"Create and save a text document.\"\"\"\n",
    "    with (WORKING_DIRECTORY / file_name).open(\"w\") as file:\n",
    "        file.write(content)\n",
    "    return f\"Document saved to {file_name}\"\n",
    "\n",
    "\n",
    "@tool\n",
    "def edit_document(\n",
    "    file_name: Annotated[str, \"Path of the document to be edited.\"],\n",
    "    inserts: Annotated[\n",
    "        Dict[int, str],\n",
    "        \"Dictionary where key is the line number (1-indexed) and value is the text to be inserted at that line.\",\n",
    "    ] = {},\n",
    ") -> Annotated[str, \"Path of the edited document file.\"]:\n",
    "    \"\"\"Edit a document by inserting text at specific line numbers.\"\"\"\n",
    "\n",
    "    with (WORKING_DIRECTORY / file_name).open(\"r\") as file:\n",
    "        lines = file.readlines()\n",
    "\n",
    "    sorted_inserts = sorted(inserts.items())\n",
    "\n",
    "    for line_number, text in sorted_inserts:\n",
    "        if 1 <= line_number <= len(lines) + 1:\n",
    "            lines.insert(line_number - 1, text + \"\\n\")\n",
    "        else:\n",
    "            return f\"Error: Line number {line_number} is out of range.\"\n",
    "\n",
    "    with (WORKING_DIRECTORY / file_name).open(\"w\") as file:\n",
    "        file.writelines(lines)\n",
    "\n",
    "    return f\"Document edited and saved to {file_name}\"\n",
    "\n",
    "@tool\n",
    "def combine_text_files(directory: str, output_filename: str = \"FinalBudgetProposal.txt\"):\n",
    "    \"\"\"Combines all text files in the given directory into a single file.\"\"\"\n",
    "    output_path = os.path.join(directory, output_filename)\n",
    "    horizontal_rule = \"----------------------------------------------------------------------------------------------------------------------------------------------\"\n",
    "\n",
    "    with open(output_path, \"w\", encoding=\"utf-8\") as outfile:\n",
    "        for filename in sorted(os.listdir(directory)):  # Sort files for consistency\n",
    "            if filename.endswith(\".txt\") and filename != output_filename:  # Avoid merging output file itself\n",
    "                file_path = os.path.join(directory, filename)\n",
    "                with open(file_path, \"r\", encoding=\"utf-8\") as infile:\n",
    "                    outfile.write(filename.replace(\".txt\", \"\") + \"\\n\" + horizontal_rule + \"\\n\\n\")\n",
    "                    outfile.write(infile.read() + \"\\n\\n\")  # Add spacing between files\n",
    "\n",
    "@tool\n",
    "def save_text_as_markdown(directory: str, text_filename: str = 'FinalBudgetProposal.txt', md_filename: str = \"FinalBudgetProposal.md\"):\n",
    "    \"\"\"Reads a text file and saves it as a Markdown (.md) file.\"\"\"\n",
    "    output_path = os.path.join(directory, md_filename)\n",
    "    input_path = os.path.join(directory, text_filename)\n",
    "\n",
    "    # 🔹 Read the Text File\n",
    "    with open(input_path, \"r\", encoding=\"utf-8\") as txt_file:\n",
    "        text_content = txt_file.read()\n",
    "\n",
    "    # 🔹 Convert to Markdown (Basic Formatting)\n",
    "    markdown_content = f\"{text_content}\"\n",
    "\n",
    "    # 🔹 Save as Markdown File\n",
    "    with open(output_path, \"w\", encoding=\"utf-8\") as md_file:\n",
    "        md_file.write(markdown_content)\n",
    "\n",
    "@tool\n",
    "def convert_markdown_to_pdf_using_pdfkit(directory: str, md_filename: str = \"FinalBudgetProposal.md\", pdf_filename: str = \"FinalBudgetProposal.pdf\"):\n",
    "    \"\"\"Converts Markdown content to PDF using pdfkit.\"\"\"\n",
    "    output_path = os.path.join(directory, pdf_filename)\n",
    "    input_path = os.path.join(directory, md_filename)\n",
    "    max_retries = 5\n",
    "    retry_delay = 2  # seconds\n",
    "\n",
    "    extra_args = [\n",
    "    \"--pdf-engine=xelatex\",  # Use XeLaTeX for better font support\n",
    "    \"-V\", \"geometry:margin=1in\",  # Set margins (1 inch)\n",
    "    \"-V\", \"geometry:letterpaper\",  # Set paper size (A4)\n",
    "    \"-V\", \"geometry:landscape\",  # Set orientation (landscape)\n",
    "    ]\n",
    "    \n",
    "    for attempt in range(max_retries):\n",
    "        try:\n",
    "            pypandoc.convert_file(input_path, \"pdf\", extra_args=extra_args, outputfile=output_path)\n",
    "            return f\"PDF saved to {output_path}\"\n",
    "        except Exception as e:\n",
    "            if attempt < max_retries - 1:  # Not the last attempt\n",
    "                time.sleep(retry_delay)\n",
    "\n",
    "@tool\n",
    "def convert_txt_to_docx(directory: str, txt_file: str = \"FinalBudgetProposal.txt\", docx_file: str = \"FinalBudgetProposal.docx\"):\n",
    "    \"\"\"Converts a .txt file to a .docx file.\"\"\"\n",
    "    output_path = os.path.join(directory, docx_file)\n",
    "    input_path = os.path.join(directory, txt_file)\n",
    "    \n",
    "    # 🔹 Read text file\n",
    "    with open(input_path, \"r\", encoding=\"utf-8\") as file:\n",
    "        text = file.read()\n",
    "\n",
    "    # 🔹 Create a new Word document\n",
    "    doc = Document()\n",
    "    doc.add_paragraph(text)  # Add text as a paragraph\n",
    "\n",
    "    # 🔹 Save as .docx\n",
    "    doc.save(output_path)\n",
    "\n",
    "@tool\n",
    "def remove_text_files(directory: str):\n",
    "    \"\"\"Removes all .txt files from the specified directory.\"\"\"\n",
    "    \n",
    "    # 🔹 Check if directory exists\n",
    "    if not os.path.isdir(directory):\n",
    "        print(f\"❌ Error: Directory '{directory}' does not exist.\")\n",
    "        return\n",
    "    \n",
    "    removed_files = 0\n",
    "\n",
    "    # 🔹 Iterate through files in the directory\n",
    "    for filename in os.listdir(directory):\n",
    "        file_path = os.path.join(directory, filename)\n",
    "\n",
    "        # 🔹 Check if it's a .txt file and delete it\n",
    "        if filename.endswith(\".txt\") and os.path.isfile(file_path):\n",
    "            os.remove(file_path)\n",
    "            removed_files += 1\n",
    "            print(f\"🗑️ Deleted: {filename}\")\n",
    "\n",
    "    if removed_files == 0:\n",
    "        print(\"✅ No .txt files found in the directory.\")\n",
    "    else:\n",
    "        print(f\"✅ Removed {removed_files} .txt files from '{directory}'.\")"
   ]
  },
  {
   "cell_type": "code",
   "execution_count": 21,
   "metadata": {},
   "outputs": [
    {
     "data": {
      "text/plain": [
       "''"
      ]
     },
     "execution_count": 21,
     "metadata": {},
     "output_type": "execute_result"
    }
   ],
   "source": [
    "directory = \"data/Documents/Budget Documents\"\n",
    "\n",
    "output_path = os.path.join(directory, \"FinalBudgetProposal.pdf\")\n",
    "input_path = os.path.join(directory, \"FinalBudgetProposal.md\")\n",
    "\n",
    "extra_args = [\n",
    "\"--pdf-engine=xelatex\",  # Use XeLaTeX for better font support\n",
    "\"-V\", \"geometry:margin=1in\",  # Set margins (1 inch)\n",
    "\"-V\", \"geometry:letterpaper\",  # Set paper size (A4)\n",
    "\"-V\", \"geometry:landscape\",  # Set orientation (landscape)\n",
    "\"-V\", \"tables-longtable\",       # Force longtable format\n",
    "]\n",
    "\n",
    "pypandoc.convert_file(input_path, \"pdf\", extra_args=extra_args, outputfile=output_path)"
   ]
  },
  {
   "cell_type": "markdown",
   "metadata": {},
   "source": [
    "### Async Helper Functions"
   ]
  },
  {
   "cell_type": "code",
   "execution_count": 19,
   "metadata": {},
   "outputs": [],
   "source": [
    "async def aagent_node(state, agent: Runnable, name: str):\n",
    "    \"\"\"Runs an agent asynchronously and returns a new message.\"\"\"\n",
    "    result = await agent.ainvoke(state)  # Async agent invocation\n",
    "    return {\"messages\": [HumanMessage(content=result[\"output\"], name=name)]}\n",
    "\n",
    "# 🔹 Make create_agent Async\n",
    "async def acreate_agent(\n",
    "    llm: ChatOpenAI,\n",
    "    tools: list,\n",
    "    system_prompt: str,\n",
    ") -> AgentExecutor:\n",
    "    \"\"\"Create a function-calling agent asynchronously and add it to the graph.\"\"\"\n",
    "    system_prompt += (\n",
    "        \"\\nWork with just the tools available to you and no others.\"\n",
    "        \" Do not ask for clarification or feedback.\"\n",
    "        \" Trust in the tools provided to you and their output.\"\n",
    "        \" Your other team members (and other teams) will collaborate with you with their own specialties.\"\n",
    "        \" You are one of the following team members: {team_members}.\"\n",
    "    )\n",
    "    prompt = ChatPromptTemplate.from_messages(\n",
    "        [\n",
    "            (\"system\", system_prompt),\n",
    "            MessagesPlaceholder(variable_name=\"messages\"),\n",
    "            MessagesPlaceholder(variable_name=\"agent_scratchpad\"),\n",
    "        ]\n",
    "    )\n",
    "\n",
    "    agent = create_openai_functions_agent(llm, tools, prompt)\n",
    "\n",
    "    # ✅ Async-compatible agent executor\n",
    "    executor = AgentExecutor(agent=agent, tools=tools, force_tool=True, cache=None)\n",
    "\n",
    "    return executor\n",
    "\n",
    "\n",
    "# 🔹 Make create_team_supervisor Async\n",
    "async def acreate_team_supervisor(llm: ChatOpenAI, system_prompt: str, members: list):\n",
    "    \"\"\"An LLM-based router that asynchronously selects the next team member to act.\"\"\"\n",
    "    options = [\"FINISH\"] + members\n",
    "\n",
    "    function_def = {\n",
    "        \"name\": \"route\",\n",
    "        \"description\": \"Select the next role.\",\n",
    "        \"parameters\": {\n",
    "            \"title\": \"routeSchema\",\n",
    "            \"type\": \"object\",\n",
    "            \"properties\": {\n",
    "                \"next\": {\n",
    "                    \"title\": \"Next\",\n",
    "                    \"anyOf\": [{\"enum\": options}],\n",
    "                },\n",
    "            },\n",
    "            \"required\": [\"next\"],\n",
    "        },\n",
    "    }\n",
    "\n",
    "    prompt = ChatPromptTemplate.from_messages(\n",
    "        [\n",
    "            (\"system\", system_prompt),\n",
    "            MessagesPlaceholder(variable_name=\"messages\"),\n",
    "            (\n",
    "                \"system\",\n",
    "                \"Given the conversation above, who should act next?\"\n",
    "                \" Or should we FINISH? Select one of: {options}\",\n",
    "            ),\n",
    "        ]\n",
    "    ).partial(options=str(options), team_members=\", \".join(members))\n",
    "\n",
    "    return (\n",
    "        prompt\n",
    "        | llm.bind_functions(functions=[function_def], function_call=\"route\")\n",
    "        | JsonOutputFunctionsParser()\n",
    "    )"
   ]
  },
  {
   "cell_type": "markdown",
   "metadata": {},
   "source": [
    "### Non-Async Helper Functions"
   ]
  },
  {
   "cell_type": "code",
   "execution_count": 20,
   "metadata": {},
   "outputs": [],
   "source": [
    "def agent_node(state, agent, name):\n",
    "    result = agent.invoke(state)\n",
    "    return {\"messages\": [HumanMessage(content=result[\"output\"], name=name)]}\n",
    "\n",
    "def create_agent(\n",
    "    llm: ChatOpenAI,\n",
    "    tools: list,\n",
    "    system_prompt: str,\n",
    ") -> str:\n",
    "    \"\"\"Create a function-calling agent and add it to the graph.\"\"\"\n",
    "    system_prompt += (\"\\nWork with just the tools available to you and no others.\"\n",
    "    \" Do not ask for clarification or feedback.\"\n",
    "    \" Trust in the tools provided to you and their output.\"\n",
    "    \" Your other team members (and other teams) will collaborate with you with their own specialties.\"\n",
    "    \" You are one of the following team members: {team_members}.\")\n",
    "    prompt = ChatPromptTemplate.from_messages(\n",
    "        [\n",
    "            (\n",
    "                \"system\",\n",
    "                system_prompt,\n",
    "            ),\n",
    "            MessagesPlaceholder(variable_name=\"messages\"),\n",
    "            MessagesPlaceholder(variable_name=\"agent_scratchpad\"),\n",
    "        ]\n",
    "    )\n",
    "    agent = create_openai_functions_agent(llm, tools, prompt)\n",
    "    executor = AgentExecutor(agent=agent, tools=tools, force_tool=True, cache=None)\n",
    "    return executor\n",
    "\n",
    "def create_team_supervisor(llm: ChatOpenAI, system_prompt, members) -> str:\n",
    "    \"\"\"An LLM-based router.\"\"\"\n",
    "    options = [\"FINISH\"] + members\n",
    "    function_def = {\n",
    "        \"name\": \"route\",\n",
    "        \"description\": \"Select the next role.\",\n",
    "        \"parameters\": {\n",
    "            \"title\": \"routeSchema\",\n",
    "            \"type\": \"object\",\n",
    "            \"properties\": {\n",
    "                \"next\": {\n",
    "                    \"title\": \"Next\",\n",
    "                    \"anyOf\": [\n",
    "                        {\"enum\": options},\n",
    "                    ],\n",
    "                },\n",
    "            },\n",
    "            \"required\": [\"next\"],\n",
    "        },\n",
    "    }\n",
    "    prompt = ChatPromptTemplate.from_messages(\n",
    "        [\n",
    "            (\"system\", system_prompt),\n",
    "            MessagesPlaceholder(variable_name=\"messages\"),\n",
    "            (\n",
    "                \"system\",\n",
    "                \"Given the conversation above, who should act next?\"\n",
    "                \" Or should we FINISH? Select one of: {options}\",\n",
    "            ),\n",
    "        ]\n",
    "    ).partial(options=str(options), team_members=\", \".join(members))\n",
    "    return (\n",
    "        prompt\n",
    "        | llm.bind_functions(functions=[function_def], function_call=\"route\")\n",
    "        | JsonOutputFunctionsParser()\n",
    "    )"
   ]
  },
  {
   "cell_type": "markdown",
   "metadata": {},
   "source": [
    "### Initialize Research Team State"
   ]
  },
  {
   "cell_type": "code",
   "execution_count": 21,
   "metadata": {},
   "outputs": [],
   "source": [
    "class ResearchTeamState(TypedDict):\n",
    "    messages: Annotated[List[BaseMessage], operator.add]\n",
    "    team_members: List[str]\n",
    "    next: str"
   ]
  },
  {
   "cell_type": "markdown",
   "metadata": {},
   "source": [
    "### Create Agents"
   ]
  },
  {
   "cell_type": "code",
   "execution_count": 22,
   "metadata": {},
   "outputs": [],
   "source": [
    "budgets_prompt = '''\n",
    "You are a research assistant who only helps with generating budgets for specific funding opportunities. \n",
    "You must use the assess_study_complexity tool to assess study complexity and include it in your response.\n",
    "You must provide all of the output from the assess_study_complexity tool. Do not summarize and do not leave anything out of your response.\n",
    "You must only respond with information about the funding opportunities related to the request. \n",
    "'''\n",
    "\n",
    "budgets_agent = await acreate_agent(\n",
    "    large_llm,\n",
    "    [assess_study_complexity],\n",
    "    budgets_prompt,\n",
    ")\n",
    "budgets_node = functools.partial(agent_node, agent=budgets_agent, name=\"BudgetGenerator\")"
   ]
  },
  {
   "cell_type": "code",
   "execution_count": 23,
   "metadata": {},
   "outputs": [],
   "source": [
    "opportunities_prompt = '''\n",
    "You are a research assistant who helps with questions about specific funding opportunities.\n",
    "You must use the retrieve_opportunities_information tool to respond to questions.\n",
    "You must only respond with information about the funding opportunities related to the request. \n",
    "'''\n",
    "\n",
    "opportunities_agent = await acreate_agent(\n",
    "    large_llm,\n",
    "    [retrieve_opportunities_information],\n",
    "    opportunities_prompt,\n",
    ")\n",
    "opportunities_node = functools.partial(agent_node, agent=opportunities_agent, name=\"OpportunitiesInformationRetriever\")"
   ]
  },
  {
   "cell_type": "code",
   "execution_count": 24,
   "metadata": {},
   "outputs": [],
   "source": [
    "projects_prompt = '''\n",
    "You are a research assistant who can provide specific information about individual NIH projects. \n",
    "You must use the retrieve_projects_information tool to retrieve information related to the question.\n",
    "You must only respond with information about the projects related to the request. \n",
    "You must use all of the output the from retrieve_projects_information tool. Do not summarize. \n",
    "'''\n",
    "\n",
    "projects_agent = create_agent(\n",
    "    small_llm,\n",
    "    [retrieve_projects_information],\n",
    "    projects_prompt,\n",
    ")\n",
    "projects_node = functools.partial(agent_node, agent=projects_agent, name=\"ProjectsInformationRetriever\")"
   ]
  },
  {
   "cell_type": "code",
   "execution_count": 25,
   "metadata": {},
   "outputs": [],
   "source": [
    "publications_prompt = '''\n",
    "You are a research assistant who can provide specific information on NIH publications. \n",
    "You do not respond to requests about budgets or study complexity.\n",
    "You must only respond with information about the publications related to the request. \n",
    "In addition to your main response, include the publication title, author, publication date, and link. \n",
    "'''\n",
    "\n",
    "publications_agent = create_agent(\n",
    "    small_llm,\n",
    "    [pub_med_tool],\n",
    "    publications_prompt,\n",
    ")\n",
    "publications_node = functools.partial(agent_node, agent=publications_agent, name=\"PublicationSearch\")"
   ]
  },
  {
   "cell_type": "code",
   "execution_count": 26,
   "metadata": {},
   "outputs": [],
   "source": [
    "search_prompt = '''\n",
    "You are a research assistant who can search the internet for additional support for your team. \n",
    "You do not respond to requests about budgets or study complexity.\n",
    "You must first give your other teammates a chance to respond. \n",
    "When it's your turn, you must only respond with information related to the request. \n",
    "In addition to your main response, include a link to your source. \n",
    "'''\n",
    "\n",
    "search_agent = create_agent(\n",
    "    small_llm,\n",
    "    [tavily_tool],\n",
    "    search_prompt,\n",
    ")\n",
    "search_node = functools.partial(agent_node, agent=search_agent, name=\"Search\")"
   ]
  },
  {
   "cell_type": "code",
   "execution_count": 27,
   "metadata": {},
   "outputs": [],
   "source": [
    "opportunities_summary_prompt = '''\n",
    "You are a research assistant who can summarize information about NIH funding opportunities.\n",
    "You do not respond to requests about budgets or study complexity.\n",
    "You must use the summarize_opportunitiestool to retrieve information related to the question.\n",
    "You must only respond with information about the funding opportunities related to the request. \n",
    "You must use all of the output the from summarize_opportunities tool. Do not summarize. \n",
    "'''\n",
    "\n",
    "opportunities_summary_agent = create_agent(\n",
    "    small_llm,\n",
    "    [summarize_opportunities],\n",
    "    opportunities_summary_prompt,\n",
    ")\n",
    "opportunities_summary_node = functools.partial(agent_node, agent=opportunities_summary_agent, name=\"OpportunitiesSummary\")"
   ]
  },
  {
   "cell_type": "code",
   "execution_count": 28,
   "metadata": {},
   "outputs": [],
   "source": [
    "projects_summary_prompt = '''\n",
    "You are a research assistant who can summarize information about NIH projects.\n",
    "You do not respond to requests about budgets or study complexity.\n",
    "You must use the summarize_projects tool to retrieve information related to the question.\n",
    "You must only respond with information about the projects related to the request. \n",
    "You must use all of the output the from summarize_projects tool. Do not summarize. \n",
    "'''\n",
    "\n",
    "projects_summary_agent = create_agent(\n",
    "    small_llm,\n",
    "    [summarize_projects],\n",
    "    projects_summary_prompt,\n",
    ")\n",
    "projects_summary_node = functools.partial(agent_node, agent=projects_summary_agent, name=\"ProjectsSummary\")"
   ]
  },
  {
   "cell_type": "code",
   "execution_count": 35,
   "metadata": {},
   "outputs": [],
   "source": [
    "general_requests_prompt = '''\n",
    "You are a research assistant who responds to general requests. You give your other teammates a chance to respond first.\n",
    "When it's your turn, you must only respond with information related to the request. \n",
    "'''\n",
    "\n",
    "general_requests_agent = create_agent(\n",
    "    small_llm,\n",
    "    [do_nothing],\n",
    "    general_requests_prompt,\n",
    ")\n",
    "general_requests_node = functools.partial(agent_node, agent=general_requests_agent, name=\"GeneralRequests\")"
   ]
  },
  {
   "cell_type": "code",
   "execution_count": 30,
   "metadata": {},
   "outputs": [
    {
     "name": "stderr",
     "output_type": "stream",
     "text": [
      "/var/folders/mn/0my2dcr50j3g01czsw6gr97w0000gn/T/ipykernel_1972/1137669147.py:63: LangChainDeprecationWarning: The method `BaseChatOpenAI.bind_functions` was deprecated in langchain-openai 0.2.1 and will be removed in 1.0.0. Use :meth:`~langchain_openai.chat_models.base.ChatOpenAI.bind_tools` instead.\n",
      "  | llm.bind_functions(functions=[function_def], function_call=\"route\")\n"
     ]
    }
   ],
   "source": [
    "supervisor_agent_prompt = '''\n",
    "You are a supervisor tasked with managing a conversation between the following workers: \n",
    "Search, OpportunitiesSummary, ProjectsSummary, OpportunitiesInformationRetriever, ProjectsInformationRetriever, PublicationSearch, BudgetGenerator, GeneralRequests. \n",
    "Given the following user request, determine the content type to be researched and respond with the worker to act next. Each worker will perform a \n",
    "task and respond with their results and status. You should never ask your team to do anything beyond research. They are not required to write content or posts.\n",
    "You trust in your workers and the tools they are using to do their work, providing guidance as needed.\n",
    "You should only pass tasks to workers that are specifically research focused.\n",
    "Give each worker only one chance to complete their task.\n",
    "When all workers are finished, respond with FINISH.\n",
    "'''\n",
    "\n",
    "supervisor_agent = create_team_supervisor(\n",
    "    large_llm,\n",
    "    supervisor_agent_prompt,\n",
    "    [\"Search\", \"OpportunitiesSummary\", \"ProjectsSummary\", \"OpportunitiesInformationRetriever\", \"ProjectsInformationRetriever\", \"PublicationSearch\", \"BudgetGenerator\", \"GeneralRequests\"],\n",
    ")"
   ]
  },
  {
   "cell_type": "code",
   "execution_count": 31,
   "metadata": {},
   "outputs": [],
   "source": [
    "personnel_effort_prompt = '''\n",
    "You are an expert at calculating NIH personnel budgets. \n",
    "You use the provided study complexity and project duration to estimate the effort allocation percentage per year for different roles on the project team. \n",
    "Those roles include:\n",
    "\n",
    "Key Personnel:\n",
    "- DCC Principal Investigator (Required): Min 15% per year\n",
    "\n",
    "Other Personnel:\n",
    "- DCC Co-Principal Investigator (Optional): Min 15%\n",
    "- Clinical Data Manager(s) (1 Required): Min 60%\n",
    "- Statistician(s) (1 Required): Min 50%\n",
    "- Clinical Project Manager (Required): Min 75%\n",
    "- Business Project Manager (Required): Min 25% at start and then phase out\n",
    "- Software Engineering (Optional): Depends on software development requirements and includes phase out\n",
    "- IT Project Manager (Optional): Depeneds on software development requirements and includes phase out\n",
    "- IT Operations (Required): Min 0%\n",
    "- Ops Leader (Required): Min 10%\n",
    "- Administrative Program Coordinator (Required): Min 10%\n",
    "- Regulatory and Quality Assurance Manager (Optional): Min 5%\n",
    "- Finance (Required): Min 5%\n",
    "- Medical Monitor (Optional): Only if a medical monitor is required\n",
    "- Business Intelligence (Optional): Depends on reporting requirements and includes phase out\n",
    "- Biometrics Management (Required): Min 5%\n",
    "- Clinical Project Manager Management (Required): Min 5%\n",
    "- IT Management (Required): Depends on software development requirements\n",
    "\n",
    "Use the calculate_person_months tool to calculate person months in addition to effort allocations.\n",
    "Display both the effort allocation % and calculated person months in a table with the roles listed in rows and the study years listed in columns.\n",
    "\n",
    "Your work is complete after this table is created.\n",
    "'''\n",
    "\n",
    "personnel_effort_agent = await acreate_agent(\n",
    "    budget_llm,\n",
    "    [calculate_person_months],\n",
    "    personnel_effort_prompt,\n",
    ")\n",
    "personnel_effort_node = functools.partial(\n",
    "    agent_node, agent=personnel_effort_agent, name=\"PersonnelEffort\"\n",
    ")\n",
    "\n",
    "personnel_justifications_prompt = '''\n",
    "You are an expert at creating NIH personnel budget justifications. You use the effort allocation estimates produced by your PersonnelEffort team member\n",
    "to create a comprehensive justification summary for each role on the project. \n",
    "\n",
    "The personnel justification should include the name, role, number of person-months devoted to this project, and justification for every person on the project. \n",
    "The justification should cover the full scope of responsibilities along with impact on the study. \n",
    "Do not include salary and fringe benefit rate in the justification.\n",
    "\n",
    "Your work is complete after a justification is created for each role on the project.\n",
    "'''\n",
    "\n",
    "personnel_justifications_agent = await acreate_agent(\n",
    "    budget_llm,\n",
    "    [do_nothing],\n",
    "    personnel_justifications_prompt,\n",
    ")\n",
    "personnel_justifications_node = functools.partial(\n",
    "    agent_node, agent=personnel_justifications_agent, name=\"PersonnelJustifications\"\n",
    ")\n",
    "\n",
    "nonpersonnel_costs_prompt = '''\n",
    "You are an expert at calculating NIH non-personnel budgets. You use the provided study complexity and project duration to estimate \n",
    "the total cost per category listed below for the entire duration of the project. \n",
    "\n",
    "Equipment, Travel, and Trainee Costs (all project years $):\n",
    "- Equipment (all project years $): Equipment is defined as an item of property that has an acquisition cost of $5,000 or more (unless the organization has established lower levels) and an expected service life of more than one year. \n",
    "- Travel (all project years $): In the budget justification, include the destination, number of people traveling and dates or duration of your stay for all anticipated travel. \n",
    "- Trainee Costs (all project years $): Leave this section blank unless otherwise stated in the funding opportunity. \n",
    "\n",
    "Other Direct Costs:\n",
    "- Materials and Supplies (all project years $): Includes items like general-use laptops, software licensing, printing and photocopying, and shipping and freight.\n",
    "- Site Monitoring (all project years $): Includes costs for site monitoring and increases proportionately to the number of participating sites.\n",
    "- Data and Safety Monitoring Board (all project years $): Includes costs related to DSMB requirements.\n",
    "- Single/Multiple IRB (all project years $): Includes costs related to the IRB requirements.\n",
    "- Publication Costs (all project years $): Costs associated with helping disseminate research findings. \n",
    "- Consultant Services (all project years $): Costs associated with consultants who provide advice but do not make decisions for the direction of the research. \n",
    "- ADP/Computer Services (all project years $): Costs for research specific computer services- such as reserving computing time on supercomputers or getting specialized software to help run your statistics.\n",
    "- Alterations and Renovations (all project years $): Not typically included but covers costs for any alteration or renovation required.\n",
    "- Research Patient Care Costs (all project years $): Not typically included but covers costs for patient care expenses.\n",
    "- Tuition (all project years $): Not typically included but covers costs for graduate students contributing to the project.\n",
    "- Human Fetal Tissue from elective abortions (all project years $): Not typically included but covers costs for the use of human fetal tissue obtained from elective abortions.\n",
    "- Other (all project years $): Any other allowable costs not accounted for in the previous sections.\n",
    "\n",
    "Display the total dollar amounts in a table with the categories listed in rows and the total dollar amounts listed in a single column.\n",
    "Your work is complete after this table is created.\n",
    "'''\n",
    "\n",
    "nonpersonnel_costs_agent = await acreate_agent(\n",
    "    budget_llm,\n",
    "    [do_nothing],\n",
    "    nonpersonnel_costs_prompt,\n",
    ")\n",
    "nonpersonnel_costs_node = functools.partial(\n",
    "    agent_node, agent=nonpersonnel_costs_agent, name=\"NonPersonnelCosts\"\n",
    ")\n",
    "\n",
    "nonpersonnel_justifications_prompt = '''\n",
    "You are an expert at creating NIH non-personnel budget justifications. You use the non-personnel cost estimates produced by your NonPersonnelCosts team member\n",
    "to create a comprehensive justification summary for each category in the project. \n",
    "\n",
    "The non-personnel costs justification should include the category name, total dollar amount, and justification for every category listed.\n",
    "The justification should cover the full description of the category along with impact on the study. \n",
    "\n",
    "Your work is complete after a justification is created for each role on the project.\n",
    "'''\n",
    "\n",
    "nonpersonnel_justifications_agent = await acreate_agent(\n",
    "    budget_llm,\n",
    "    [do_nothing],\n",
    "    nonpersonnel_justifications_prompt,\n",
    ")\n",
    "nonpersonnel_justifications_node = functools.partial(\n",
    "    agent_node, agent=nonpersonnel_justifications_agent, name=\"NonPersonnelJustifications\"\n",
    ")"
   ]
  },
  {
   "cell_type": "code",
   "execution_count": 32,
   "metadata": {},
   "outputs": [],
   "source": [
    "study_complexity_writer_prompt = '''\n",
    "You are an expert at writing budget and study complexity documents. \n",
    "Write all of the provided study complexity and funding opportunity details to a text document titled 1_Funding_Opportunity_Overview.txt, overwriting the old document as needed. \n",
    "Make formatting changes as needed to make the document more readable but do not change the overall content. \n",
    "'''\n",
    "\n",
    "study_complexity_writer_agent = await acreate_agent(\n",
    "    writer_llm,\n",
    "    [write_document, edit_document, read_document],\n",
    "    study_complexity_writer_prompt,\n",
    ")\n",
    "#context_aware_personnel_effort_writer_agent = prelude | personnel_effort_writer_agent\n",
    "study_complexity_writer_node = functools.partial(\n",
    "    agent_node, agent=study_complexity_writer_agent, name=\"StudyComplexityWriter\"\n",
    ")\n",
    "\n",
    "personnel_effort_writer_prompt = '''\n",
    "You are an expert writing documents. You may only use the information passed to you to write the entire provided context to a text document titled 2_Personnel_Effort.txt, \n",
    "overwriting the old document as needed. Do not make any changes.\n",
    "'''\n",
    "\n",
    "personnel_effort_writer_agent = await acreate_agent(\n",
    "    writer_llm,\n",
    "    [write_document, edit_document, read_document],\n",
    "    personnel_effort_writer_prompt,\n",
    ")\n",
    "#context_aware_personnel_effort_writer_agent = prelude | personnel_effort_writer_agent\n",
    "personnel_effort_writing_node = functools.partial(\n",
    "    agent_node, agent=personnel_effort_writer_agent, name=\"PersonnelEffortWriter\"\n",
    ")\n",
    "\n",
    "personnel_justification_writer_prompt = '''\n",
    "You are an expert writing documents. You may only use the information passed to you to write the entire provided context to a text document titled 3_Personnel_Justification.txt, \n",
    "overwriting the old document as needed. Do not make any changes.\n",
    "'''\n",
    "\n",
    "personnel_justification_writer_agent = await acreate_agent(\n",
    "    writer_llm,\n",
    "    [write_document, edit_document, read_document],\n",
    "    personnel_justification_writer_prompt,\n",
    ")\n",
    "#context_aware_personnel_justification_writer_agent = prelude | personnel_justification_writer_agent\n",
    "personnel_justification_writing_node = functools.partial(\n",
    "    agent_node, agent=personnel_justification_writer_agent, name=\"PersonnelJustificationWriter\"\n",
    ")\n",
    "\n",
    "nonpersonnel_costs_writer_prompt = '''\n",
    "You are an expert writing documents. You may only use the information passed to you to write the entire provided context to a text document titled 4_Non-Personnel_Costs.txt, \n",
    "overwriting the old document as needed. Do not make any changes.\n",
    "'''\n",
    "\n",
    "nonpersonnel_costs_writer_agent = await acreate_agent(\n",
    "    writer_llm,\n",
    "    [write_document, edit_document, read_document],\n",
    "    nonpersonnel_costs_writer_prompt,\n",
    ")\n",
    "#context_aware_nonpersonnel_effort_writer_agent = prelude | nonpersonnel_costs_writer_agent\n",
    "nonpersonnel_costs_writing_node = functools.partial(\n",
    "    agent_node, agent=nonpersonnel_costs_writer_agent, name=\"NonPersonnelCostsWriter\"\n",
    ")\n",
    "\n",
    "nonpersonnel_justification_writer_prompt = '''\n",
    "You are an expert writing documents. You may only use the information passed to you to write the entire provided context to a text document titled 5_Non-Personnel_Justification.txt, \n",
    "overwriting the old document as needed. Do not make any changes.\n",
    "'''\n",
    "\n",
    "nonpersonnel_justification_writer_agent = await acreate_agent(\n",
    "    writer_llm,\n",
    "    [write_document, edit_document, read_document],\n",
    "    nonpersonnel_justification_writer_prompt,\n",
    ")\n",
    "#context_aware_nonpersonnel_justification_writer_agent = prelude | nonpersonnel_justification_writer_agent\n",
    "nonpersonnel_justification_writing_node = functools.partial(\n",
    "    agent_node, agent=nonpersonnel_justification_writer_agent, name=\"NonPersonnelJustificationWriter\"\n",
    ")\n",
    "\n",
    "final_budget_writer_prompt = '''\n",
    "You are an expert at combining documents. You use the combine_text_files tool to create a new combined document called FinalBudgetProposal.txt in the data/Documents/Budget Documents directory.\n",
    "'''\n",
    "\n",
    "final_budget_writer_agent = await acreate_agent(\n",
    "    medium_llm,\n",
    "    [combine_text_files],\n",
    "    final_budget_writer_prompt,\n",
    ")\n",
    "final_budget_writer_node = functools.partial(\n",
    "    agent_node, agent=final_budget_writer_agent, name=\"FinalBudgetWriter\"\n",
    ")\n",
    "\n",
    "dopifier_writer_prompt = '''\n",
    "You are an expert at converting text documents to PDF documents. \n",
    "You first use the save_text_as_markdown tool to convert the final budget proposal document to a FinalBudgetProposal.md markdown file in the data/Documents/Budget Documents directory.\n",
    "You then use the convert_markdown_to_pdf_using_pdfkit tool to convert the final budget proposal markdown file to a FinalBudgetProposal.pdf file in the data/Documents/Budget Documents directory.\n",
    "'''\n",
    "\n",
    "dopifier_writer_agent = await acreate_agent(\n",
    "    medium_llm,\n",
    "    [save_text_as_markdown, convert_markdown_to_pdf_using_pdfkit],\n",
    "    dopifier_writer_prompt,\n",
    ")\n",
    "dopifier_writer_node = functools.partial(\n",
    "    agent_node, agent=dopifier_writer_agent, name=\"Dopifier\"\n",
    ")"
   ]
  },
  {
   "cell_type": "markdown",
   "metadata": {},
   "source": [
    "### Configure Graph"
   ]
  },
  {
   "cell_type": "code",
   "execution_count": 36,
   "metadata": {},
   "outputs": [
    {
     "data": {
      "text/plain": [
       "<langgraph.graph.state.StateGraph at 0x1458720d0>"
      ]
     },
     "execution_count": 36,
     "metadata": {},
     "output_type": "execute_result"
    }
   ],
   "source": [
    "research_graph = StateGraph(ResearchTeamState)\n",
    "\n",
    "research_graph.add_node(\"OpportunitiesInformationRetriever\", opportunities_node)\n",
    "research_graph.add_node(\"BudgetGenerator\", budgets_node)\n",
    "research_graph.add_node(\"supervisor\", supervisor_agent)\n",
    "research_graph.add_node(\"PersonnelEffort\", personnel_effort_node)\n",
    "research_graph.add_node(\"PersonnelEffortWriter\", personnel_effort_writing_node)\n",
    "research_graph.add_node(\"PersonnelJustifications\", personnel_justifications_node)\n",
    "research_graph.add_node(\"PersonnelJustificationWriter\", personnel_justification_writing_node)\n",
    "research_graph.add_node(\"NonPersonnelCosts\", nonpersonnel_costs_node)\n",
    "research_graph.add_node(\"NonPersonnelCostsWriter\", nonpersonnel_costs_writing_node)\n",
    "research_graph.add_node(\"NonPersonnelJustifications\", nonpersonnel_justifications_node)\n",
    "research_graph.add_node(\"NonPersonnelJustificationWriter\", nonpersonnel_justification_writing_node)\n",
    "research_graph.add_node(\"ProjectsInformationRetriever\", projects_node)\n",
    "research_graph.add_node(\"PublicationSearch\", publications_node)\n",
    "research_graph.add_node(\"Search\", search_node)\n",
    "research_graph.add_node(\"OpportunitiesSummary\", opportunities_summary_node)\n",
    "research_graph.add_node(\"ProjectsSummary\", projects_summary_node)\n",
    "research_graph.add_node(\"StudyComplexityWriter\", study_complexity_writer_node)\n",
    "research_graph.add_node(\"FinalBudgetWriter\", final_budget_writer_node)\n",
    "research_graph.add_node(\"Dopifier\", dopifier_writer_node)\n",
    "research_graph.add_node(\"GeneralRequests\", general_requests_node)"
   ]
  },
  {
   "cell_type": "code",
   "execution_count": 37,
   "metadata": {},
   "outputs": [
    {
     "data": {
      "text/plain": [
       "<langgraph.graph.state.StateGraph at 0x1458720d0>"
      ]
     },
     "execution_count": 37,
     "metadata": {},
     "output_type": "execute_result"
    }
   ],
   "source": [
    "research_graph.add_edge(\"OpportunitiesInformationRetriever\", \"supervisor\")\n",
    "research_graph.add_edge(\"ProjectsInformationRetriever\", \"supervisor\")\n",
    "research_graph.add_edge(\"OpportunitiesSummary\", \"supervisor\")\n",
    "research_graph.add_edge(\"ProjectsSummary\", \"supervisor\")\n",
    "research_graph.add_edge(\"PublicationSearch\", \"supervisor\")\n",
    "research_graph.add_edge(\"Search\", \"supervisor\")\n",
    "research_graph.add_edge(\"BudgetGenerator\", \"PersonnelEffort\")\n",
    "research_graph.add_edge(\"BudgetGenerator\", \"NonPersonnelCosts\")\n",
    "research_graph.add_edge(\"BudgetGenerator\", \"StudyComplexityWriter\")\n",
    "research_graph.add_edge(\"PersonnelEffort\", \"PersonnelEffortWriter\")\n",
    "research_graph.add_edge(\"PersonnelEffort\", \"PersonnelJustifications\")\n",
    "research_graph.add_edge(\"PersonnelJustifications\", \"PersonnelJustificationWriter\")\n",
    "research_graph.add_edge(\"NonPersonnelCosts\", \"NonPersonnelCostsWriter\")\n",
    "research_graph.add_edge(\"NonPersonnelCostsWriter\", \"FinalBudgetWriter\")\n",
    "research_graph.add_edge(\"PersonnelJustificationWriter\", \"FinalBudgetWriter\")\n",
    "research_graph.add_edge(\"PersonnelEffortWriter\", \"FinalBudgetWriter\")\n",
    "research_graph.add_edge(\"NonPersonnelCosts\", \"NonPersonnelJustifications\")\n",
    "research_graph.add_edge(\"NonPersonnelJustifications\", \"NonPersonnelJustificationWriter\")\n",
    "research_graph.add_edge(\"NonPersonnelJustificationWriter\", \"FinalBudgetWriter\")\n",
    "research_graph.add_edge(\"StudyComplexityWriter\", \"FinalBudgetWriter\")\n",
    "research_graph.add_edge(\"FinalBudgetWriter\", \"Dopifier\")\n",
    "research_graph.add_edge(\"Dopifier\", END)\n",
    "research_graph.add_edge(\"BudgetGenerator\", \"supervisor\")\n",
    "research_graph.add_edge(\"GeneralRequests\", \"supervisor\")\n",
    "\n",
    "research_graph.add_conditional_edges(\n",
    "    \"supervisor\",\n",
    "    lambda x: x[\"next\"],\n",
    "    {\"BudgetGenerator\": \"BudgetGenerator\", \"OpportunitiesInformationRetriever\": \"OpportunitiesInformationRetriever\", \"ProjectsInformationRetriever\": \"ProjectsInformationRetriever\",\n",
    "     \"PublicationSearch\": \"PublicationSearch\", \"Search\": \"Search\", \"OpportunitiesSummary\": \"OpportunitiesSummary\", \"ProjectsSummary\": \"ProjectsSummary\", \"GeneralRequests\": \"GeneralRequests\", \"FINISH\": END},\n",
    ")"
   ]
  },
  {
   "cell_type": "code",
   "execution_count": 38,
   "metadata": {},
   "outputs": [],
   "source": [
    "research_graph.set_entry_point(\"supervisor\")\n",
    "chain = research_graph.compile()"
   ]
  },
  {
   "cell_type": "markdown",
   "metadata": {},
   "source": [
    "### Display Graph Image"
   ]
  },
  {
   "cell_type": "code",
   "execution_count": 39,
   "metadata": {},
   "outputs": [
    {
     "data": {
      "image/png": "[encoded data removed]",
      "text/plain": [
       "<IPython.core.display.Image object>"
      ]
     },
     "metadata": {},
     "output_type": "display_data"
    }
   ],
   "source": [
    "try:\n",
    "    display(Image(chain.get_graph(xray=True).draw_mermaid_png()))\n",
    "except:\n",
    "    pass"
   ]
  },
  {
   "cell_type": "markdown",
   "metadata": {},
   "source": [
    "### Configure Team Members"
   ]
  },
  {
   "cell_type": "code",
   "execution_count": 40,
   "metadata": {},
   "outputs": [],
   "source": [
    "def enter_chain(message: str):\n",
    "    results = {\n",
    "        \"messages\": [HumanMessage(content=message)],\n",
    "        \"team_members\": \", \".join(research_graph.nodes),\n",
    "    }\n",
    "    return results\n",
    "\n",
    "research_chain = enter_chain | chain"
   ]
  },
  {
   "cell_type": "markdown",
   "metadata": {},
   "source": [
    "### Test Chain"
   ]
  },
  {
   "cell_type": "code",
   "execution_count": 53,
   "metadata": {},
   "outputs": [
    {
     "name": "stdout",
     "output_type": "stream",
     "text": [
      "Here are some NIH funding opportunities that may assist with your grant application:\n",
      "\n",
      "1. **Limited Competition: Small Grant Program for NHLBI K01/K08/K23/K25 Recipients**\n",
      "   - **Activity Code:** R03\n",
      "   - **Release Date:** 12/16/2024\n",
      "   - **Expiration Date:** 1/8/2026\n",
      "   - [Link](https://grants.nih.gov/grants/guide/rfa-files/RFA-HL-25-011.html)\n",
      "\n",
      "2. **Limited Competition: Small Grant Program for NIDDK K01/K08/K23/K25 Recipients**\n",
      "   - **Activity Code:** R03\n",
      "   - **Release Date:** 1/10/2025\n",
      "   - **Expiration Date:** 1/8/2028\n",
      "   - [Link](https://grants.nih.gov/grants/guide/pa-files/PAR-25-091.html)\n",
      "\n",
      "3. **Revision Applications for Incorporation of Novel NCI-Supported Technology to Accelerate Cancer Research**\n",
      "   - **Activity Code:** U01\n",
      "   - **Release Date:** 12/31/2024\n",
      "   - **Expiration Date:** 10/4/2025\n",
      "   - [Link](https://grants.nih.gov/grants/guide/rfa-files/RFA-CA-25-006.html)\n",
      "\n",
      "4. **Limited Competition: Building Partnerships and Broadening Perspectives to Advance Ethical, Legal, and Social Implications (ELSI) Research (BBAER) Program**\n",
      "   - **Activity Code:** UM1\n",
      "   - **Release Date:** 7/10/2024\n",
      "   - **Expiration Date:** 8/3/2026\n",
      "   - [Link](https://grants.nih.gov/grants/guide/rfa-files/RFA-HG-24-026.html)\n",
      "\n",
      "5. **AHRQ Health Services Research Demonstration and Dissemination Grants**\n",
      "   - **Activity Code:** R18\n",
      "   - **Release Date:** 2/6/2024\n",
      "   - **Expiration Date:** 5/27/2029\n",
      "   - [Link](https://grants.nih.gov/grants/guide/pa-files/PA-24-156.html)\n",
      "\n",
      "6. **Collaborative Program Grant for Multidisciplinary Teams (Clinical Trial Optional)**\n",
      "   - **Activity Code:** RM1\n",
      "   - **Release Date:** 2/3/2023\n",
      "   - **Expiration Date:** 1/28/2026\n",
      "   - [Link](https://grants.nih.gov/grants/guide/pa-files/PAR-23-077.html)\n",
      "\n",
      "7. **NIDA Program Project Grant Applications (Clinical Trial Optional)**\n",
      "   - **Activity Code:** P01\n",
      "   - **Release Date:** 1/10/2023\n",
      "   - **Expiration Date:** 1/8/2026\n",
      "   - [Link](https://grants.nih.gov/grants/guide/pa-files/PAR-23-064.html)\n",
      "\n",
      "8. **NIOSH Small Research Grant Program**\n",
      "   - **Activity Code:** R03\n",
      "   - **Release Date:** 5/24/2018\n",
      "   - **Expiration Date:** 11/21/2025\n",
      "   - [Link](https://grants.nih.gov/grants/guide/pa-files/PAR-18-797.html)\n",
      "\n",
      "9. **NIOSH Exploratory/Developmental Grant Program**\n",
      "   - **Activity Code:** R21\n",
      "   - **Release Date:** 5/24/2018\n",
      "   - **Expiration Date:** 11/21/2025\n",
      "   - [Link](https://grants.nih.gov/grants/guide/pa-files/PAR-18-798.html)\n",
      "\n",
      "10. **Laboratory Flexible Funding Model (LFFM)**\n",
      "    - **Activity Code:** U19\n",
      "    - **Release Date:** 1/17/2025\n",
      "    - **Expiration Date:** 1/11/2028\n",
      "    - [Link](https://grants.nih.gov/grants/guide/rfa-files/RFA-FD-25-007.html)\n",
      "\n",
      "For more funding opportunities, you can visit the [NIH Funding Opportunities](https://grants.nih.gov/funding/nih-guide-for-grants-and-contracts).\n"
     ]
    }
   ],
   "source": [
    "result = await chain.ainvoke({\"messages\": [HumanMessage(content=\"I need help with my grant application\")], \"team_members\": \", \".join(research_graph.nodes)})\n",
    "print(result['messages'][-1].content)"
   ]
  },
  {
   "cell_type": "code",
   "execution_count": 49,
   "metadata": {},
   "outputs": [
    {
     "name": "stdout",
     "output_type": "stream",
     "text": [
      "{'supervisor': {'next': 'FINISH'}}\n",
      "---\n"
     ]
    }
   ],
   "source": [
    "# generate a budget for funding opportunity PAR-25-283\n",
    "\n",
    "for s in research_chain.stream(\n",
    "    \"hi\", {\"recursion_limit\": 10}\n",
    "):\n",
    "    if \"__end__\" not in s:\n",
    "        print(s)\n",
    "        print(\"---\")"
   ]
  }
 ],
 "metadata": {
  "kernelspec": {
   "display_name": ".venv",
   "language": "python",
   "name": "python3"
  },
  "language_info": {
   "codemirror_mode": {
    "name": "ipython",
    "version": 3
   },
   "file_extension": ".py",
   "mimetype": "text/x-python",
   "name": "python",
   "nbconvert_exporter": "python",
   "pygments_lexer": "ipython3",
   "version": "3.13.2"
  }
 },
 "nbformat": 4,
 "nbformat_minor": 2
}
